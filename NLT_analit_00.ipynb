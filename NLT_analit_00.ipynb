{
 "cells": [
  {
   "cell_type": "markdown",
   "id": "7f5b73a2-32a8-4e8f-a51d-1471d7ef58ad",
   "metadata": {},
   "source": [
    "\n",
    "# Avaliação do emprego da aproximação analítica na Transformada Numérica de Laplace"
   ]
  },
  {
   "cell_type": "code",
   "execution_count": 37,
   "id": "5e385a5e-bf66-41cc-8f14-078d3a0deac1",
   "metadata": {},
   "outputs": [],
   "source": [
    "import numpy as np\n",
    "from scipy.special import kv as BesselK, iv as BesselI  \n",
    "from scipy.constants import pi\n",
    "import matplotlib.pyplot as plt"
   ]
  },
  {
   "cell_type": "code",
   "execution_count": 38,
   "id": "b9c73ed5-9ffe-43bd-a19f-a502e7558bf8",
   "metadata": {},
   "outputs": [],
   "source": [
    "# %% Constantes e funções\n",
    "Pi = np.pi\n",
    "I = 1j\n",
    "mu0 = 4e-7*Pi\n",
    "eps0 = 8.854e-12"
   ]
  },
  {
   "cell_type": "markdown",
   "id": "277a96ea-5778-4d72-831b-187d89941abe",
   "metadata": {},
   "source": [
    "## Funções Auxiliares"
   ]
  },
  {
   "cell_type": "code",
   "execution_count": 39,
   "id": "b6b5a239-77b9-444a-b1e0-f41c3af8b2d3",
   "metadata": {},
   "outputs": [],
   "source": [
    "### impedância interna de condutores tubulares\n",
    "def ZintTubo(Omega, Rhoc, rf, rint, Mur=1, Mu=mu0):\n",
    "    Etac = np.sqrt( (I*Omega*Mur*Mu)/Rhoc )\n",
    "    ri = rint + 1e-6\n",
    "    cf = Etac*rf\n",
    "    ci = Etac*ri\n",
    "    Den = BesselK(1, ci)*BesselI(1, cf) - BesselK(1, cf)*BesselI(1, ci)\n",
    "    Num = BesselK(1, ci)*BesselI(0, cf) + BesselK(0, cf)*BesselI(1, ci)\n",
    "    return Rhoc*Etac*Num/(2*Pi*rf*Den)\n",
    "\n",
    "# impedância interna de condutor sem alma de aço\n",
    "# impedância interna de condutores cilíndricos\n",
    "# Mur=90 para cabos de aço\n",
    "def Zin(Omega, Rhopr, rpr, Mur=1, Mu=mu0):\n",
    "    Etapr = np.sqrt( I*Omega*Mu*Mur/Rhopr )\n",
    "    cr = Etapr*rpr\n",
    "    civ0 = BesselI(0, cr)\n",
    "    civ1 = BesselI(1, cr)\n",
    "    return Etapr*Rhopr*civ0/(2*Pi*rpr*civ1)\n",
    "\n",
    "def ZSolo(omega, r, h1, h2, sigma_solo, mu=mu0):\n",
    "    eta_solo = np.sqrt(I*omega*mu*sigma_solo)\n",
    "    c1 = I*omega*mu/2/Pi\n",
    "    c2 = (h1 + h2)**2 - r**2\n",
    "    c3 = r**2 + (h1 + h2)**2\n",
    "    c4 = eta_solo**2*(r**2 + (h1 + h2)**2)\n",
    "    c5 = 1 + (h1 + h2)*eta_solo\n",
    "    c6 = np.exp(-eta_solo*(h1 + h2))\n",
    "    c7 = BesselK(0, eta_solo*np.sqrt(r**2 + (h1 - h2)**2) )\n",
    "    c8 = BesselK(2, eta_solo*np.sqrt(r**2 + (h1 + h2)**2) )\n",
    "    return c1*(c7 + c2/c3*(c8 - 2*(c6*c5)/c4))\n",
    "\n",
    "# deveria estar funcionando mas deu problemas\n",
    "# def eliprc(m, nc, npr):\n",
    "#    i = nc-npr\n",
    "#    return np.linalg.inv(m)[:i, :i]\n",
    "# versao alternativa\n",
    "\n",
    "def eliprc(m, nc, npr):\n",
    "    # Compute the inverse of the matrix\n",
    "    m_inv = np.linalg.inv(m)\n",
    "    \n",
    "    # Take the top-left (nc - npr) x (nc - npr) submatrix\n",
    "    reduced_m = m_inv[:nc - npr, :nc - npr]\n",
    "    \n",
    "    return reduced_m \n",
    "\n",
    "### internal impedance of cylindrical conductors\n",
    "def zintc(omega, Rhoc, rf, ri, Mur):\n",
    "    return ZintTubo(omega, Rhoc, rf, ri, Mur)\n",
    "\n",
    "def zic(omega, rhoc, rf, mur):\n",
    "    return Zin(omega, rhoc, rf, mur)\n",
    "\n"
   ]
  },
  {
   "cell_type": "code",
   "execution_count": 40,
   "id": "8a13bc43-8690-4d55-8540-7f52c2eddac2",
   "metadata": {},
   "outputs": [],
   "source": [
    "# calcula matrizes Z e Y por unidae de comprimento\n",
    "# case  2: ground wires and unbundled conductors\n",
    "def cZYlt2(omega, x, y, sigmas, rdc, rf, rint, npr, rdcpr, rpr):\n",
    "    mu = mu0\n",
    "    eps = eps0\n",
    "    nc = x.size\n",
    "    nf = int(nc - npr)\n",
    "    rhoc = rdc*Pi*(rf**2 - rint**2)\n",
    "    rhopr = rdcpr*Pi*rpr**2\n",
    "    if rint != 0:\n",
    "        v1 = zintc(omega, rhoc, rf, rint, 1)*np.ones(nc - npr)\n",
    "        v2 = zic(omega, rhopr, rpr, 1)*np.ones(npr)\n",
    "        v = np.append(v1, v2)\n",
    "        zin = np.diag(v)\n",
    "    else:\n",
    "        v1 = zic(omega, rhoc, rf, 1)*np.ones(nc - npr)\n",
    "        v2 = zic(omega, rhopr, rpr, 1)*np.ones(npr)\n",
    "        v = np.append(v1, v2)\n",
    "        zin = np.diag(v)\n",
    "        \n",
    "    p = np.sqrt( 1/(I*omega*mu*sigmas) )\n",
    "    table = np.array([])\n",
    "    for i in range(nc):\n",
    "        for j in range(nc):\n",
    "            if i != j:\n",
    "                novovalor = (np.log(\n",
    "                        ((x[i] - x[j])**2 + (2*p + y[i] + y[j])**2)/(\n",
    "                                (x[i] - x[j])**2 +(y[i] - y[j])**2)))/(2)\n",
    "            elif i <= nc - npr - 1:\n",
    "                novovalor = np.log( 2.0*(y[i] + p)/rf )\n",
    "            else:\n",
    "                novovalor = np.log( 2.0*(y[i] + p)/rpr )\n",
    "                \n",
    "            table = np.append(table, novovalor)\n",
    "        \n",
    "    ze = I*omega*mu/2/Pi*table\n",
    "    ze = ze.reshape(zin.shape)\n",
    "    Z1 = np.linalg.inv(eliprc(zin+ze, nc, npr))\n",
    "    mp = np.array([])\n",
    "    for i in range(nc):\n",
    "        for j in range(nc):\n",
    "            if i != j:\n",
    "                novovalor = (1/2)*np.log(\n",
    "                        ((x[i] - x[j])**2 + (y[i] + y[j])**2)/(\n",
    "                                (x[i] - x[j])**2 + (y[i] - y[j])**2))\n",
    "            elif i <= nc - npr - 1:\n",
    "                novovalor = np.log( (2*y[i])/rf )\n",
    "            else:\n",
    "                novovalor = np.log( (2*y[i])/rpr )\n",
    "                \n",
    "            mp = np.append(mp, novovalor)\n",
    "        \n",
    "    mp = mp.reshape(zin.shape)\n",
    "    co2 = eliprc(mp, nc, npr)\n",
    "    Y1 = 3e-12*np.diag( np.ones(nf) ) + I*omega*2*Pi*eps*co2\n",
    "    return Z1, Y1\n",
    "\n",
    "\n",
    "# monta matriz Ybarra da LT\n",
    "def ynLT(Z, Y, length):\n",
    "    evals, evect = np.linalg.eig(np.dot(Z, Y))\n",
    "    \n",
    "    d = np.sqrt(evals)\n",
    "    \n",
    "    # Step 3: Transformation matrices\n",
    "    Tv = evect.T\n",
    "    Tvi = np.linalg.inv(Tv)\n",
    "    \n",
    "    # Step 4: Exponential operation\n",
    "    hm = np.exp(-d * length)\n",
    "    \n",
    "    # Step 5: Calculate Am and Bm\n",
    "    Am = d * (1 + hm**2) / (1 - hm**2)\n",
    "    Bm = -2.0 * d * hm / (1 - hm**2)\n",
    "    \n",
    "    # Step 6: Compute y11 and y12\n",
    "    Z_inv = np.linalg.inv(Z)\n",
    "    y11 = np.dot(np.dot(np.dot(Z_inv, Tv), np.diag(Am)), Tvi)\n",
    "    y12 = np.dot(np.dot(np.dot(Z_inv, Tv), np.diag(Bm)), Tvi)\n",
    "    \n",
    "    return y11, y12"
   ]
  },
  {
   "cell_type": "markdown",
   "id": "d5a6deb3-0811-47b9-9cc5-49a2e734fa6c",
   "metadata": {},
   "source": [
    "## Amostragem no domínio da frequência"
   ]
  },
  {
   "cell_type": "code",
   "execution_count": 41,
   "id": "2be3cc1a-4853-4fa6-8a31-ad292d2fc0e1",
   "metadata": {},
   "outputs": [],
   "source": [
    "fb = 3000;\n",
    "omegaMin = 100 * 10**(-3)\n",
    "omegaMax =  50 * 10**3\n",
    "\n",
    "# logspace lower frequency\n",
    "flin = np.logspace(-3, np.log10(2 * np.pi * fb), 32)\n",
    "# linspace higher frequency\n",
    "flog = np.linspace(2 * np.pi * fb, omegaMax, 256)\n",
    "\n",
    "# Combine and sort the unique values from both arrays\n",
    "freq = np.sort(np.union1d(flin, flog))"
   ]
  },
  {
   "cell_type": "code",
   "execution_count": 42,
   "id": "805f5175-8f75-458f-9175-099eb550a7ea",
   "metadata": {},
   "outputs": [],
   "source": [
    "# para o uso da NLT\n",
    "Tmax = 25e-3\n",
    "\n",
    "c = - np.log(0.001)/Tmax\n",
    "\n",
    "sk = - 1j * c + 2 * np.pi * freq\n",
    "\n",
    "nf = len(sk)"
   ]
  },
  {
   "cell_type": "code",
   "execution_count": 43,
   "id": "ee91dea6-759c-4eb3-ad82-144fee42661a",
   "metadata": {},
   "outputs": [
    {
     "data": {
      "text/plain": [
       "288"
      ]
     },
     "execution_count": 43,
     "metadata": {},
     "output_type": "execute_result"
    }
   ],
   "source": [
    "nf"
   ]
  },
  {
   "cell_type": "markdown",
   "id": "0866ffa4-9538-43d7-9b92-28591aa40124",
   "metadata": {},
   "source": [
    "# Configuração do circuito"
   ]
  },
  {
   "cell_type": "code",
   "execution_count": 44,
   "id": "f57f62c9-ff95-44be-8370-a2beca847733",
   "metadata": {},
   "outputs": [],
   "source": [
    "# coordenadas dos condutores \n",
    "xc = np.array([-4.5, 0, 4.5, -2.25, 2.25])\n",
    "yc = np.array([11.0, 11.0, 11.0, 14.8, 14.8])\n",
    "\n",
    "# dados dos condutores\n",
    "r1 = 21.66e-3 / 2\n",
    "\n",
    "r0 = 0\n",
    "\n",
    "Rdc = 0.121e-3\n",
    "\n",
    "rpr = 12.33e-3 / 2 \n",
    "\n",
    "Rdcpr = 0.359e-3\n",
    "\n",
    "compr = 25.0e3\n",
    "\n",
    "Rho = 100.0\n",
    "\n",
    "npr = 2\n",
    "\n",
    "rfonte = 0.01\n",
    "\n",
    "gf = 1 / rfonte"
   ]
  },
  {
   "cell_type": "code",
   "execution_count": 45,
   "id": "2bd97984-3177-4a76-9715-d5f2c0ab433b",
   "metadata": {},
   "outputs": [
    {
     "name": "stdout",
     "output_type": "stream",
     "text": [
      "Elapsed time: 0.11223840713500977 seconds\n"
     ]
    }
   ],
   "source": [
    "# Initialize v1out as an array of zeros\n",
    "v1out = np.zeros((nf, 6), dtype=complex)  # Assuming 6 elements based on the Join[{100.0/(I \\[Omega])}, Table[0, {5}]]\n",
    "\n",
    "# Timing equivalent in Python\n",
    "import time\n",
    "start_time = time.time()\n",
    "\n",
    "# Loop over nm from 1 to nf\n",
    "for nm in range(nf):\n",
    "    omega = sk[nm]\n",
    "    \n",
    "    Z, Y = cZYlt2(omega, xc, yc, 1/Rho, Rdc, r1, 0, npr, Rdcpr, rpr)\n",
    "    \n",
    "    A, B = ynLT(Z, Y, compr)\n",
    "    \n",
    "    # condicoes nos terminais da LT\n",
    "    gf = 0.0  # Placeholder value for gf, should be defined\n",
    "    term1 = np.diag([gf, gf, gf])\n",
    "    term2 = np.diag([0.0, 0.0, 0.0])\n",
    "    \n",
    "    # Matriz do sistema \n",
    "    Ynodal = np.block([[A + term1, B], [B, A + term2]])\n",
    "    \n",
    "    # vetor de excitacao\n",
    "    exci = np.concatenate(([100.0 / (1j * omega)], np.zeros(5)))\n",
    "    \n",
    "    # resolve o sistema \n",
    "    v1out[nm] = np.linalg.solve(Ynodal, exci)\n",
    "\n",
    "# Timing end\n",
    "end_time = time.time()\n",
    "elapsed_time = end_time - start_time\n",
    "\n",
    "# Print the elapsed time\n",
    "print(f\"Elapsed time: {elapsed_time} seconds\")\n"
   ]
  }
 ],
 "metadata": {
  "kernelspec": {
   "display_name": "Python 3 (ipykernel)",
   "language": "python",
   "name": "python3"
  },
  "language_info": {
   "codemirror_mode": {
    "name": "ipython",
    "version": 3
   },
   "file_extension": ".py",
   "mimetype": "text/x-python",
   "name": "python",
   "nbconvert_exporter": "python",
   "pygments_lexer": "ipython3",
   "version": "3.12.0"
  }
 },
 "nbformat": 4,
 "nbformat_minor": 5
}
